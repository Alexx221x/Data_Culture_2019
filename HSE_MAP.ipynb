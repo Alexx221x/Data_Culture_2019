{
 "cells": [
  {
   "cell_type": "markdown",
   "metadata": {
    "colab_type": "text",
    "id": "tEXvs6tvAQ6V"
   },
   "source": [
    "## Визуализация карты для темы: \n",
    "## \"Динамика загрязнения окружающей среды\""
   ]
  },
  {
   "cell_type": "markdown",
   "metadata": {
    "colab_type": "text",
    "id": "ZFCxJ2fiAQ6X"
   },
   "source": [
    "### Импортируем необходимые библиотеки"
   ]
  },
  {
   "cell_type": "code",
   "execution_count": 0,
   "metadata": {
    "colab": {},
    "colab_type": "code",
    "id": "B8ydqYeCAQ6Y"
   },
   "outputs": [],
   "source": [
    "!pip install pandas\n",
    "!pip install geopandas\n",
    "!pip install matplotlib\n",
    "import pandas as pd\n",
    "import geopandas as gpd\n",
    "from matplotlib import pyplot as plt"
   ]
  },
  {
   "cell_type": "markdown",
   "metadata": {
    "colab_type": "text",
    "id": "A0iZTsLeAQ6a"
   },
   "source": [
    "### Читаем файл с координатами по регионам РФ"
   ]
  },
  {
   "cell_type": "code",
   "execution_count": 0,
   "metadata": {
    "colab": {},
    "colab_type": "code",
    "id": "3cJ0d7oQAQ6a"
   },
   "outputs": [],
   "source": [
    "fp ='Regions.shp' # or 'Regions.shx'\n",
    "map_df = gpd.read_file(fp)"
   ]
  },
  {
   "cell_type": "code",
   "execution_count": 7,
   "metadata": {
    "colab": {
     "base_uri": "https://localhost:8080/",
     "height": 195
    },
    "colab_type": "code",
    "id": "M7WX0baIAQ6c",
    "outputId": "49ea9533-4cf3-4107-e20d-f89e096fb961"
   },
   "outputs": [
    {
     "data": {
      "text/html": [
       "<div>\n",
       "<style scoped>\n",
       "    .dataframe tbody tr th:only-of-type {\n",
       "        vertical-align: middle;\n",
       "    }\n",
       "\n",
       "    .dataframe tbody tr th {\n",
       "        vertical-align: top;\n",
       "    }\n",
       "\n",
       "    .dataframe thead th {\n",
       "        text-align: right;\n",
       "    }\n",
       "</style>\n",
       "<table border=\"1\" class=\"dataframe\">\n",
       "  <thead>\n",
       "    <tr style=\"text-align: right;\">\n",
       "      <th></th>\n",
       "      <th>geometry</th>\n",
       "    </tr>\n",
       "  </thead>\n",
       "  <tbody>\n",
       "    <tr>\n",
       "      <th>0</th>\n",
       "      <td>POLYGON ((61.96619 55.03031, 61.99005 55.02993...</td>\n",
       "    </tr>\n",
       "    <tr>\n",
       "      <th>1</th>\n",
       "      <td>MULTIPOLYGON (((37.28999 63.88848, 37.29309 63...</td>\n",
       "    </tr>\n",
       "    <tr>\n",
       "      <th>2</th>\n",
       "      <td>MULTIPOLYGON (((53.92590 67.98348, 53.92736 67...</td>\n",
       "    </tr>\n",
       "    <tr>\n",
       "      <th>3</th>\n",
       "      <td>POLYGON ((29.61796 58.25263, 29.62738 58.25511...</td>\n",
       "    </tr>\n",
       "    <tr>\n",
       "      <th>4</th>\n",
       "      <td>POLYGON ((34.08077 51.66570, 34.08434 51.66928...</td>\n",
       "    </tr>\n",
       "  </tbody>\n",
       "</table>\n",
       "</div>"
      ],
      "text/plain": [
       "                                            geometry\n",
       "0  POLYGON ((61.96619 55.03031, 61.99005 55.02993...\n",
       "1  MULTIPOLYGON (((37.28999 63.88848, 37.29309 63...\n",
       "2  MULTIPOLYGON (((53.92590 67.98348, 53.92736 67...\n",
       "3  POLYGON ((29.61796 58.25263, 29.62738 58.25511...\n",
       "4  POLYGON ((34.08077 51.66570, 34.08434 51.66928..."
      ]
     },
     "execution_count": 7,
     "metadata": {
      "tags": []
     },
     "output_type": "execute_result"
    }
   ],
   "source": [
    "map_df.head() #Просматриваем сам файл"
   ]
  },
  {
   "cell_type": "markdown",
   "metadata": {
    "colab_type": "text",
    "id": "Jk94e13EAQ6e"
   },
   "source": [
    "### Читаем файл с загрязнениями по регионам РФ"
   ]
  },
  {
   "cell_type": "code",
   "execution_count": 0,
   "metadata": {
    "colab": {},
    "colab_type": "code",
    "id": "fC9ID9xIAQ6e"
   },
   "outputs": [],
   "source": [
    "data = pd.read_csv('pollution.csv')"
   ]
  },
  {
   "cell_type": "code",
   "execution_count": 9,
   "metadata": {
    "colab": {
     "base_uri": "https://localhost:8080/",
     "height": 417
    },
    "colab_type": "code",
    "id": "2RsNfh0XAQ6g",
    "outputId": "06633a84-4cad-40db-8bd8-80596867905f"
   },
   "outputs": [
    {
     "data": {
      "text/html": [
       "<div>\n",
       "<style scoped>\n",
       "    .dataframe tbody tr th:only-of-type {\n",
       "        vertical-align: middle;\n",
       "    }\n",
       "\n",
       "    .dataframe tbody tr th {\n",
       "        vertical-align: top;\n",
       "    }\n",
       "\n",
       "    .dataframe thead th {\n",
       "        text-align: right;\n",
       "    }\n",
       "</style>\n",
       "<table border=\"1\" class=\"dataframe\">\n",
       "  <thead>\n",
       "    <tr style=\"text-align: right;\">\n",
       "      <th></th>\n",
       "      <th>Unnamed: 0</th>\n",
       "      <th>Экономическая зона, район</th>\n",
       "      <th>Выбросы загрязняющих атмосферу веществ, отходящих от стационарных источников, млн т</th>\n",
       "      <th>Место района по степени загрязнённости атмосферного воздуха</th>\n",
       "      <th>Сброс загрязненных сточных вод, млрд м3</th>\n",
       "      <th>Место района по степени загрязнённости водных ресурсов</th>\n",
       "    </tr>\n",
       "  </thead>\n",
       "  <tbody>\n",
       "    <tr>\n",
       "      <th>0</th>\n",
       "      <td>0</td>\n",
       "      <td>Российская Федерация</td>\n",
       "      <td>20.0</td>\n",
       "      <td>0.0</td>\n",
       "      <td>23.0</td>\n",
       "      <td>0.0</td>\n",
       "    </tr>\n",
       "    <tr>\n",
       "      <th>1</th>\n",
       "      <td>1</td>\n",
       "      <td>Западная зона (Европейская Россия), в том числ...</td>\n",
       "      <td>12.0</td>\n",
       "      <td>0.0</td>\n",
       "      <td>18.0</td>\n",
       "      <td>0.0</td>\n",
       "    </tr>\n",
       "    <tr>\n",
       "      <th>2</th>\n",
       "      <td>2</td>\n",
       "      <td>Северный</td>\n",
       "      <td>2.7</td>\n",
       "      <td>4.0</td>\n",
       "      <td>1.3</td>\n",
       "      <td>8.0</td>\n",
       "    </tr>\n",
       "    <tr>\n",
       "      <th>3</th>\n",
       "      <td>3</td>\n",
       "      <td>Северо-Западный</td>\n",
       "      <td>0.4</td>\n",
       "      <td>11.0</td>\n",
       "      <td>1.9</td>\n",
       "      <td>6.0</td>\n",
       "    </tr>\n",
       "    <tr>\n",
       "      <th>4</th>\n",
       "      <td>4</td>\n",
       "      <td>Центральный</td>\n",
       "      <td>1.4</td>\n",
       "      <td>5.0</td>\n",
       "      <td>4.6</td>\n",
       "      <td>1.0</td>\n",
       "    </tr>\n",
       "  </tbody>\n",
       "</table>\n",
       "</div>"
      ],
      "text/plain": [
       "   Unnamed: 0  ... Место района по степени загрязнённости водных ресурсов\n",
       "0           0  ...                                                0.0    \n",
       "1           1  ...                                                0.0    \n",
       "2           2  ...                                                8.0    \n",
       "3           3  ...                                                6.0    \n",
       "4           4  ...                                                1.0    \n",
       "\n",
       "[5 rows x 6 columns]"
      ]
     },
     "execution_count": 9,
     "metadata": {
      "tags": []
     },
     "output_type": "execute_result"
    }
   ],
   "source": [
    "data.head() #Просматриваем сам файл"
   ]
  },
  {
   "cell_type": "code",
   "execution_count": 0,
   "metadata": {
    "colab": {},
    "colab_type": "code",
    "id": "CZ7-34ITAQ6h"
   },
   "outputs": [],
   "source": [
    "#Избавляемся от лишней информации\n",
    "data = data.drop([11,1],axis=0)\n",
    "data = data.drop(['Unnamed: 0'],axis = 1).reset_index()\n",
    "data = data.drop(['index'],axis=1)\n"
   ]
  },
  {
   "cell_type": "code",
   "execution_count": 0,
   "metadata": {
    "colab": {},
    "colab_type": "code",
    "id": "_cWUjd4pAQ6j"
   },
   "outputs": [],
   "source": [
    "# Экономические регионы РФ по рядам в map_df\n",
    "north = [1,2,24,42,54,65,82 ]\n",
    "northwest = [3,43,44,45]\n",
    "central = [21,22,26,41,50,53,57,63,64]\n",
    "volgo_vyatka = [47,48,51,52,56,59,61]\n",
    "chernozem = [5,15,25,72]\n",
    "volga = [27,28,30,32,40,62,73]\n",
    "north_Caucasus = [4,12,13,14,31,33,34,35,36,37,38,39]\n",
    "ural = [23,29,49,55,58,60,0]\n",
    "kaliningrad = [46]\n",
    "western_siberia = [16,17,18,19,20,69,70,71]\n",
    "eastern_siberia = [8,9,11,68,74,75,76,77,81]\n",
    "far_eastern = [6,10,7,66,78,79,80]"
   ]
  },
  {
   "cell_type": "code",
   "execution_count": 0,
   "metadata": {
    "colab": {},
    "colab_type": "code",
    "id": "pYG5EaQBAQ6k"
   },
   "outputs": [],
   "source": [
    "# 2D Массив со всеми регионами\n",
    "arr = x = [[1,2,24,42,54,65,82 ],[3,43,44,45],[21,22,26,41,50,53,57,63,64], [47,48,51,52,56,59,61], [5,15,25,72], [27,28,30,32,40,62,73], [4,12,13,14,31,33,34,35,36,37,38,39],  [23,29,49,55,58,60,0], [46], [16,17,18,19,20,69,70,71], [8,9,11,68,74,75,76,77,81], [6,10,7,66,78,79,80]]"
   ]
  },
  {
   "cell_type": "code",
   "execution_count": 0,
   "metadata": {
    "colab": {},
    "colab_type": "code",
    "id": "MtF4yVWLAQ6m"
   },
   "outputs": [],
   "source": [
    "# Заполняем пустой массив данными, в зависимости от экономического региона\n",
    "y = [int(0) for i in range(83)]\n",
    "for j in range(len(x)):\n",
    "    for i in range(len(x[j])):\n",
    "        if j == 0:\n",
    "            y[x[j][i]]= 2.70\n",
    "        elif j==1:\n",
    "            y[x[j][i]]= 0.40\n",
    "        elif j == 2:\n",
    "            y[x[j][i]]= 1.40\n",
    "        elif j == 3:\n",
    "            y[x[j][i]]= 0.50\n",
    "        elif j == 4:\n",
    "            y[x[j][i]]= 0.60\n",
    "        elif j == 5:\n",
    "            y[x[j][i]]= 1.30\n",
    "        elif j == 6:\n",
    "            y[x[j][i]]= 0.50\n",
    "        elif j == 7:\n",
    "            y[x[j][i]]= 4.60\n",
    "        elif j == 8:\n",
    "            y[x[j][i]]= 0.04\n",
    "        elif j == 9:\n",
    "            y[x[j][i]]= 3.40\n",
    "        elif j == 10:\n",
    "            y[x[j][i]]= 3.60\n",
    "        elif j == 11:\n",
    "            y[x[j][i]]= 1.00"
   ]
  },
  {
   "cell_type": "code",
   "execution_count": 0,
   "metadata": {
    "colab": {},
    "colab_type": "code",
    "id": "48LH2qoFAQ6o"
   },
   "outputs": [],
   "source": [
    "# Создаем новый столбик со значениями\n",
    "map_df['value'] = y"
   ]
  },
  {
   "cell_type": "markdown",
   "metadata": {
    "colab_type": "text",
    "id": "G5REMkz-AQ6p"
   },
   "source": [
    "# Создаем карту"
   ]
  },
  {
   "cell_type": "code",
   "execution_count": 15,
   "metadata": {
    "colab": {
     "base_uri": "https://localhost:8080/",
     "height": 367
    },
    "colab_type": "code",
    "id": "xo-dpEMqAQ6q",
    "outputId": "c01348ac-0f82-4baa-e679-ce0bc7bf9ff6"
   },
   "outputs": [
    {
     "data": {
      "image/png": "[encoded data removed]",
      "text/plain": [
       "<Figure size 864x432 with 2 Axes>"
      ]
     },
     "metadata": {
      "tags": []
     },
     "output_type": "display_data"
    }
   ],
   "source": [
    "fig, ax = plt.subplots(1, figsize=(12, 6))\n",
    "map_df.drop([67],axis=0).plot(column='value', cmap='Blues', linewidth=0.8,ax=ax, edgecolor='0.8')\n",
    "ax.axis('off')\n",
    "ax.set_title('Выбросы загрязняющих атмосферу веществ, отходящих от стационарных\\n источников, млн т \\n', \\\n",
    "              fontdict={'fontsize': '14',\n",
    "                        'fontweight' : '2'})\n",
    "# Визуализируем столбик\n",
    "sm = plt.cm.ScalarMappable(cmap='Blues', norm=plt.Normalize(vmin=0, vmax=5))\n",
    "sm._A = []\n",
    "cbar = fig.colorbar(sm)"
   ]
  },
  {
   "cell_type": "code",
   "execution_count": 0,
   "metadata": {
    "colab": {},
    "colab_type": "code",
    "id": "ckjng-NDAQ6r"
   },
   "outputs": [],
   "source": []
  }
 ],
 "metadata": {
  "colab": {
   "name": "HSE_MAP.ipynb",
   "provenance": []
  },
  "kernelspec": {
   "display_name": "Python 3",
   "language": "python",
   "name": "python3"
  },
  "language_info": {
   "codemirror_mode": {
    "name": "ipython",
    "version": 3
   },
   "file_extension": ".py",
   "mimetype": "text/x-python",
   "name": "python",
   "nbconvert_exporter": "python",
   "pygments_lexer": "ipython3",
   "version": "3.7.3"
  }
 },
 "nbformat": 4,
 "nbformat_minor": 1
}
